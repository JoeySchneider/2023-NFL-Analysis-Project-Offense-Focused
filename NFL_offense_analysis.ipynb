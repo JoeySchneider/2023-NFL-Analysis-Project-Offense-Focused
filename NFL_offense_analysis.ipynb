{
 "cells": [
  {
   "cell_type": "code",
   "execution_count": null,
   "metadata": {},
   "outputs": [],
   "source": [
    "#NFL 2023 Data Analysis Project\n",
    "#Project Main Goal: Find the average yards gained per team on offense and summarize in a graph."
   ]
  },
  {
   "cell_type": "code",
   "execution_count": 2,
   "metadata": {},
   "outputs": [],
   "source": [
    "# import all necessary tools to do proper analysis\n",
    "import matplotlib.pyplot as plt\n",
    "import numpy as np\n",
    "import pandas as pd\n",
    "import seaborn as sns"
   ]
  },
  {
   "cell_type": "code",
   "execution_count": 5,
   "metadata": {},
   "outputs": [
    {
     "name": "stdout",
     "output_type": "stream",
     "text": [
      "       GameId    GameDate  Quarter  Minute  Second OffenseTeam DefenseTeam  \\\n",
      "0  2023121101  12/11/2023        3       1      28         NYG          GB   \n",
      "1  2023121101  12/11/2023        3       1      35         NYG          GB   \n",
      "2  2023121101  12/11/2023        3       2      19         NYG          GB   \n",
      "3  2023121101  12/11/2023        3       2      56         NYG          GB   \n",
      "4  2023121101  12/11/2023        3       3      43         NYG          GB   \n",
      "\n",
      "   Down  ToGo  YardLine  ...  IsTwoPointConversion  \\\n",
      "0     0     0        85  ...                     0   \n",
      "1     3     7        92  ...                     0   \n",
      "2     2    11        88  ...                     0   \n",
      "3     1    10        89  ...                     0   \n",
      "4     1    10        64  ...                     0   \n",
      "\n",
      "   IsTwoPointConversionSuccessful  RushDirection  YardLineFixed  \\\n",
      "0                               0            NaN             15   \n",
      "1                               0            NaN              8   \n",
      "2                               0    RIGHT GUARD             12   \n",
      "3                               0         CENTER             11   \n",
      "4                               0            NaN             36   \n",
      "\n",
      "  YardLineDirection  IsPenaltyAccepted  PenaltyTeam  IsNoPlay  PenaltyType  \\\n",
      "0               OPP                  0          NaN         0          NaN   \n",
      "1               OPP                  0          NaN         0          NaN   \n",
      "2               OPP                  0          NaN         0          NaN   \n",
      "3               OPP                  0          NaN         0          NaN   \n",
      "4               OPP                  0          NaN         0          NaN   \n",
      "\n",
      "   PenaltyYards  \n",
      "0             0  \n",
      "1             0  \n",
      "2             0  \n",
      "3             0  \n",
      "4             0  \n",
      "\n",
      "[5 rows x 45 columns]\n",
      "Index(['GameId', 'GameDate', 'Quarter', 'Minute', 'Second', 'OffenseTeam',\n",
      "       'DefenseTeam', 'Down', 'ToGo', 'YardLine', 'Unnamed: 10',\n",
      "       'SeriesFirstDown', 'Unnamed: 12', 'NextScore', 'Description', 'TeamWin',\n",
      "       'Unnamed: 16', 'Unnamed: 17', 'SeasonYear', 'Yards', 'Formation',\n",
      "       'PlayType', 'IsRush', 'IsPass', 'IsIncomplete', 'IsTouchdown',\n",
      "       'PassType', 'IsSack', 'IsChallenge', 'IsChallengeReversed',\n",
      "       'Challenger', 'IsMeasurement', 'IsInterception', 'IsFumble',\n",
      "       'IsPenalty', 'IsTwoPointConversion', 'IsTwoPointConversionSuccessful',\n",
      "       'RushDirection', 'YardLineFixed', 'YardLineDirection',\n",
      "       'IsPenaltyAccepted', 'PenaltyTeam', 'IsNoPlay', 'PenaltyType',\n",
      "       'PenaltyYards'],\n",
      "      dtype='object')\n"
     ]
    }
   ],
   "source": [
    "# import the csv data file to be read by python pandas\n",
    "pbp_2023 = pd.read_csv('pbp-2023.csv')\n",
    "\n",
    "# Let's see what the first few rows of our data looks like and what columns we're working with\n",
    "print(pbp_2023.head())\n",
    "print(pbp_2023.columns)"
   ]
  },
  {
   "cell_type": "code",
   "execution_count": 8,
   "metadata": {},
   "outputs": [
    {
     "name": "stdout",
     "output_type": "stream",
     "text": [
      "Giants Average Offensive Yards: 3.137902559867878\n"
     ]
    }
   ],
   "source": [
    "# Let's do a quick test with the New York Giant's (NYG)\n",
    "# Create a variable to pull all the giants data\n",
    "giants_offense = pbp_2023[pbp_2023['OffenseTeam'] == 'NYG']\n",
    "# calculation for average yards gained on offense\n",
    "NYG_avg_gained = np.average(giants_offense['Yards'])\n",
    "# print the giants average yards gained statistic\n",
    "print('Giants Average Offensive Yards:', NYG_avg_gained)"
   ]
  },
  {
   "cell_type": "code",
   "execution_count": 21,
   "metadata": {},
   "outputs": [
    {
     "name": "stdout",
     "output_type": "stream",
     "text": [
      "DEN avg. yards per play: 3.38\n",
      "LAC avg. yards per play: 3.67\n",
      "ARI avg. yards per play: 3.38\n",
      "NE avg. yards per play: 3.61\n",
      "IND avg. yards per play: 3.57\n",
      "BUF avg. yards per play: 4.08\n",
      "LV avg. yards per play: 3.45\n",
      "LA avg. yards per play: 3.89\n",
      "PHI avg. yards per play: 3.9\n",
      "SF avg. yards per play: 4.58\n",
      "BAL avg. yards per play: 4.1\n",
      "PIT avg. yards per play: 3.47\n",
      "DET avg. yards per play: 4.24\n",
      "MIN avg. yards per play: 3.99\n",
      "WAS avg. yards per play: 3.7\n",
      "MIA avg. yards per play: 4.97\n",
      "GB avg. yards per play: 3.84\n",
      "TEN avg. yards per play: 3.35\n",
      "DAL avg. yards per play: 4.07\n",
      "HOU avg. yards per play: 3.96\n",
      "CIN avg. yards per play: 3.59\n",
      "CAR avg. yards per play: 3.02\n",
      "CLE avg. yards per play: 3.39\n",
      "NYJ avg. yards per play: 3.17\n",
      "JAX avg. yards per play: 3.58\n",
      "NYG avg. yards per play: 3.14\n",
      "TB avg. yards per play: 3.55\n",
      "ATL avg. yards per play: 3.63\n",
      "NO avg. yards per play: 3.72\n",
      "SEA avg. yards per play: 3.77\n",
      "KC avg. yards per play: 4.25\n",
      "CHI avg. yards per play: 3.67\n"
     ]
    }
   ],
   "source": [
    "# Let's create a function to do this for each team\n",
    "# empty list where we will add our team names\n",
    "team_abbreviated = [] \n",
    "# empty list where we will add our team averages\n",
    "team_averages = [] \n",
    "for team in set(pbp_2023['OffenseTeam']):\n",
    "    #append each team to team_abbreviated list\n",
    "    teams_abbreviated.append(team)\n",
    "    #calculate the average per team rounded to 2 decimal points\n",
    "    average = round(np.average(pbp_2023[pbp_2023['OffenseTeam'] == team]['Yards']), 2)\n",
    "    print(f'{team} avg. yards per play: {average}')\n",
    "    #append each team and average to a list with columns Team and Average Yards per Play\n",
    "    team_averages.append({'Team': team, 'Average Yards per Play': average})\n",
    "\n",
    "#create a new dataframe from the team_averages list\n",
    "team_averages_df = pd.DataFrame(team_averages)\n",
    "\n",
    "\n",
    "\n",
    "\n",
    "\n",
    "\n",
    "\n"
   ]
  },
  {
   "cell_type": "code",
   "execution_count": 36,
   "metadata": {},
   "outputs": [
    {
     "data": {
      "image/png": "[encoded data removed]",
      "text/plain": [
       "<Figure size 640x480 with 1 Axes>"
      ]
     },
     "metadata": {},
     "output_type": "display_data"
    },
    {
     "data": {
      "text/plain": [
       "<Figure size 640x480 with 0 Axes>"
      ]
     },
     "metadata": {},
     "output_type": "display_data"
    }
   ],
   "source": [
    "#let's create a bar graph of all of the team's average yards per play\n",
    "team_averages_df_sorted = team_averages_df.sort_values(by='Average Yards per Play', ascending=False)\n",
    "colors = plt.cm.viridis(team_averages_df_sorted['Average Yards per Play'] / max(team_averages_df_sorted['Average Yards per Play']))\n",
    "\n",
    "ax= plt.subplot()\n",
    "plt.bar(x=team_averages_df_sorted['Team'], height= team_averages_df_sorted['Average Yards per Play'], color=colors)\n",
    "plt.xlabel('NFL Team')\n",
    "plt.xticks(rotation=90, fontsize=8)\n",
    "plt.ylabel('Average Yards Per Play')\n",
    "plt.title('NFL Teams Average Yards Per Play On Offense')\n",
    "plt.show()\n",
    "plt.clf()"
   ]
  }
 ],
 "metadata": {
  "kernelspec": {
   "display_name": "base",
   "language": "python",
   "name": "python3"
  },
  "language_info": {
   "codemirror_mode": {
    "name": "ipython",
    "version": 3
   },
   "file_extension": ".py",
   "mimetype": "text/x-python",
   "name": "python",
   "nbconvert_exporter": "python",
   "pygments_lexer": "ipython3",
   "version": "3.11.5"
  }
 },
 "nbformat": 4,
 "nbformat_minor": 2
}
